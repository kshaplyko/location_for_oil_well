{
 "cells": [
  {
   "cell_type": "markdown",
   "metadata": {},
   "source": [
    "# Выбор локации для скважины"
   ]
  },
  {
   "cell_type": "markdown",
   "metadata": {},
   "source": [
    "Допустим, вы работаете в добывающей компании «ГлавРосГосНефть». Нужно решить, где бурить новую скважину.\n",
    "\n",
    "Вам предоставлены пробы нефти в трёх регионах: в каждом 10 000 месторождений, где измерили качество нефти и объём её запасов. Постройте модель машинного обучения, которая поможет определить регион, где добыча принесёт наибольшую прибыль. Проанализируйте возможную прибыль и риски техникой *Bootstrap.*\n",
    "\n",
    "Шаги для выбора локации:\n",
    "\n",
    "- В избранном регионе ищут месторождения, для каждого определяют значения признаков;\n",
    "- Строят модель и оценивают объём запасов;\n",
    "- Выбирают месторождения с самым высокими оценками значений. Количество месторождений зависит от бюджета компании и стоимости разработки одной скважины;\n",
    "- Прибыль равна суммарной прибыли отобранных месторождений."
   ]
  },
  {
   "cell_type": "markdown",
   "metadata": {},
   "source": [
    "## Загрузка и подготовка данных"
   ]
  },
  {
   "cell_type": "code",
   "execution_count": 19,
   "metadata": {},
   "outputs": [],
   "source": [
    "# импорт библиотек\n",
    "import pandas as pd\n",
    "from sklearn.model_selection import train_test_split\n",
    "from sklearn.preprocessing import StandardScaler\n",
    "from sklearn.linear_model import LinearRegression\n",
    "from sklearn.metrics import r2_score\n",
    "from sklearn.metrics import accuracy_score\n",
    "from sklearn.metrics import mean_absolute_error\n",
    "from sklearn.metrics import mean_squared_error\n",
    "import matplotlib.pyplot as plt\n",
    "import numpy as np"
   ]
  },
  {
   "cell_type": "code",
   "execution_count": 20,
   "metadata": {},
   "outputs": [
    {
     "data": {
      "text/html": [
       "<div>\n",
       "<style scoped>\n",
       "    .dataframe tbody tr th:only-of-type {\n",
       "        vertical-align: middle;\n",
       "    }\n",
       "\n",
       "    .dataframe tbody tr th {\n",
       "        vertical-align: top;\n",
       "    }\n",
       "\n",
       "    .dataframe thead th {\n",
       "        text-align: right;\n",
       "    }\n",
       "</style>\n",
       "<table border=\"1\" class=\"dataframe\">\n",
       "  <thead>\n",
       "    <tr style=\"text-align: right;\">\n",
       "      <th></th>\n",
       "      <th>id</th>\n",
       "      <th>f0</th>\n",
       "      <th>f1</th>\n",
       "      <th>f2</th>\n",
       "      <th>product</th>\n",
       "    </tr>\n",
       "  </thead>\n",
       "  <tbody>\n",
       "    <tr>\n",
       "      <th>0</th>\n",
       "      <td>txEyH</td>\n",
       "      <td>0.705745</td>\n",
       "      <td>-0.497823</td>\n",
       "      <td>1.221170</td>\n",
       "      <td>105.280062</td>\n",
       "    </tr>\n",
       "    <tr>\n",
       "      <th>1</th>\n",
       "      <td>2acmU</td>\n",
       "      <td>1.334711</td>\n",
       "      <td>-0.340164</td>\n",
       "      <td>4.365080</td>\n",
       "      <td>73.037750</td>\n",
       "    </tr>\n",
       "    <tr>\n",
       "      <th>2</th>\n",
       "      <td>409Wp</td>\n",
       "      <td>1.022732</td>\n",
       "      <td>0.151990</td>\n",
       "      <td>1.419926</td>\n",
       "      <td>85.265647</td>\n",
       "    </tr>\n",
       "    <tr>\n",
       "      <th>3</th>\n",
       "      <td>iJLyR</td>\n",
       "      <td>-0.032172</td>\n",
       "      <td>0.139033</td>\n",
       "      <td>2.978566</td>\n",
       "      <td>168.620776</td>\n",
       "    </tr>\n",
       "    <tr>\n",
       "      <th>4</th>\n",
       "      <td>Xdl7t</td>\n",
       "      <td>1.988431</td>\n",
       "      <td>0.155413</td>\n",
       "      <td>4.751769</td>\n",
       "      <td>154.036647</td>\n",
       "    </tr>\n",
       "  </tbody>\n",
       "</table>\n",
       "</div>"
      ],
      "text/plain": [
       "      id        f0        f1        f2     product\n",
       "0  txEyH  0.705745 -0.497823  1.221170  105.280062\n",
       "1  2acmU  1.334711 -0.340164  4.365080   73.037750\n",
       "2  409Wp  1.022732  0.151990  1.419926   85.265647\n",
       "3  iJLyR -0.032172  0.139033  2.978566  168.620776\n",
       "4  Xdl7t  1.988431  0.155413  4.751769  154.036647"
      ]
     },
     "metadata": {},
     "output_type": "display_data"
    },
    {
     "name": "stdout",
     "output_type": "stream",
     "text": [
      "<class 'pandas.core.frame.DataFrame'>\n",
      "RangeIndex: 100000 entries, 0 to 99999\n",
      "Data columns (total 5 columns):\n",
      " #   Column   Non-Null Count   Dtype  \n",
      "---  ------   --------------   -----  \n",
      " 0   id       100000 non-null  object \n",
      " 1   f0       100000 non-null  float64\n",
      " 2   f1       100000 non-null  float64\n",
      " 3   f2       100000 non-null  float64\n",
      " 4   product  100000 non-null  float64\n",
      "dtypes: float64(4), object(1)\n",
      "memory usage: 3.8+ MB\n"
     ]
    }
   ],
   "source": [
    "# загружу все датасеты, выведу первые 5 строк и информацию\n",
    "data_0 = pd.read_csv('/datasets/geo_data_0.csv')\n",
    "display(data_0.head())\n",
    "data_0.info()"
   ]
  },
  {
   "cell_type": "code",
   "execution_count": 21,
   "metadata": {},
   "outputs": [
    {
     "data": {
      "text/html": [
       "<div>\n",
       "<style scoped>\n",
       "    .dataframe tbody tr th:only-of-type {\n",
       "        vertical-align: middle;\n",
       "    }\n",
       "\n",
       "    .dataframe tbody tr th {\n",
       "        vertical-align: top;\n",
       "    }\n",
       "\n",
       "    .dataframe thead th {\n",
       "        text-align: right;\n",
       "    }\n",
       "</style>\n",
       "<table border=\"1\" class=\"dataframe\">\n",
       "  <thead>\n",
       "    <tr style=\"text-align: right;\">\n",
       "      <th></th>\n",
       "      <th>id</th>\n",
       "      <th>f0</th>\n",
       "      <th>f1</th>\n",
       "      <th>f2</th>\n",
       "      <th>product</th>\n",
       "    </tr>\n",
       "  </thead>\n",
       "  <tbody>\n",
       "    <tr>\n",
       "      <th>0</th>\n",
       "      <td>kBEdx</td>\n",
       "      <td>-15.001348</td>\n",
       "      <td>-8.276000</td>\n",
       "      <td>-0.005876</td>\n",
       "      <td>3.179103</td>\n",
       "    </tr>\n",
       "    <tr>\n",
       "      <th>1</th>\n",
       "      <td>62mP7</td>\n",
       "      <td>14.272088</td>\n",
       "      <td>-3.475083</td>\n",
       "      <td>0.999183</td>\n",
       "      <td>26.953261</td>\n",
       "    </tr>\n",
       "    <tr>\n",
       "      <th>2</th>\n",
       "      <td>vyE1P</td>\n",
       "      <td>6.263187</td>\n",
       "      <td>-5.948386</td>\n",
       "      <td>5.001160</td>\n",
       "      <td>134.766305</td>\n",
       "    </tr>\n",
       "    <tr>\n",
       "      <th>3</th>\n",
       "      <td>KcrkZ</td>\n",
       "      <td>-13.081196</td>\n",
       "      <td>-11.506057</td>\n",
       "      <td>4.999415</td>\n",
       "      <td>137.945408</td>\n",
       "    </tr>\n",
       "    <tr>\n",
       "      <th>4</th>\n",
       "      <td>AHL4O</td>\n",
       "      <td>12.702195</td>\n",
       "      <td>-8.147433</td>\n",
       "      <td>5.004363</td>\n",
       "      <td>134.766305</td>\n",
       "    </tr>\n",
       "  </tbody>\n",
       "</table>\n",
       "</div>"
      ],
      "text/plain": [
       "      id         f0         f1        f2     product\n",
       "0  kBEdx -15.001348  -8.276000 -0.005876    3.179103\n",
       "1  62mP7  14.272088  -3.475083  0.999183   26.953261\n",
       "2  vyE1P   6.263187  -5.948386  5.001160  134.766305\n",
       "3  KcrkZ -13.081196 -11.506057  4.999415  137.945408\n",
       "4  AHL4O  12.702195  -8.147433  5.004363  134.766305"
      ]
     },
     "metadata": {},
     "output_type": "display_data"
    },
    {
     "name": "stdout",
     "output_type": "stream",
     "text": [
      "<class 'pandas.core.frame.DataFrame'>\n",
      "RangeIndex: 100000 entries, 0 to 99999\n",
      "Data columns (total 5 columns):\n",
      " #   Column   Non-Null Count   Dtype  \n",
      "---  ------   --------------   -----  \n",
      " 0   id       100000 non-null  object \n",
      " 1   f0       100000 non-null  float64\n",
      " 2   f1       100000 non-null  float64\n",
      " 3   f2       100000 non-null  float64\n",
      " 4   product  100000 non-null  float64\n",
      "dtypes: float64(4), object(1)\n",
      "memory usage: 3.8+ MB\n"
     ]
    }
   ],
   "source": [
    "data_1 = pd.read_csv('/datasets/geo_data_1.csv')\n",
    "display(data_1.head())\n",
    "data_1.info()"
   ]
  },
  {
   "cell_type": "code",
   "execution_count": 22,
   "metadata": {},
   "outputs": [
    {
     "data": {
      "text/html": [
       "<div>\n",
       "<style scoped>\n",
       "    .dataframe tbody tr th:only-of-type {\n",
       "        vertical-align: middle;\n",
       "    }\n",
       "\n",
       "    .dataframe tbody tr th {\n",
       "        vertical-align: top;\n",
       "    }\n",
       "\n",
       "    .dataframe thead th {\n",
       "        text-align: right;\n",
       "    }\n",
       "</style>\n",
       "<table border=\"1\" class=\"dataframe\">\n",
       "  <thead>\n",
       "    <tr style=\"text-align: right;\">\n",
       "      <th></th>\n",
       "      <th>id</th>\n",
       "      <th>f0</th>\n",
       "      <th>f1</th>\n",
       "      <th>f2</th>\n",
       "      <th>product</th>\n",
       "    </tr>\n",
       "  </thead>\n",
       "  <tbody>\n",
       "    <tr>\n",
       "      <th>0</th>\n",
       "      <td>fwXo0</td>\n",
       "      <td>-1.146987</td>\n",
       "      <td>0.963328</td>\n",
       "      <td>-0.828965</td>\n",
       "      <td>27.758673</td>\n",
       "    </tr>\n",
       "    <tr>\n",
       "      <th>1</th>\n",
       "      <td>WJtFt</td>\n",
       "      <td>0.262778</td>\n",
       "      <td>0.269839</td>\n",
       "      <td>-2.530187</td>\n",
       "      <td>56.069697</td>\n",
       "    </tr>\n",
       "    <tr>\n",
       "      <th>2</th>\n",
       "      <td>ovLUW</td>\n",
       "      <td>0.194587</td>\n",
       "      <td>0.289035</td>\n",
       "      <td>-5.586433</td>\n",
       "      <td>62.871910</td>\n",
       "    </tr>\n",
       "    <tr>\n",
       "      <th>3</th>\n",
       "      <td>q6cA6</td>\n",
       "      <td>2.236060</td>\n",
       "      <td>-0.553760</td>\n",
       "      <td>0.930038</td>\n",
       "      <td>114.572842</td>\n",
       "    </tr>\n",
       "    <tr>\n",
       "      <th>4</th>\n",
       "      <td>WPMUX</td>\n",
       "      <td>-0.515993</td>\n",
       "      <td>1.716266</td>\n",
       "      <td>5.899011</td>\n",
       "      <td>149.600746</td>\n",
       "    </tr>\n",
       "  </tbody>\n",
       "</table>\n",
       "</div>"
      ],
      "text/plain": [
       "      id        f0        f1        f2     product\n",
       "0  fwXo0 -1.146987  0.963328 -0.828965   27.758673\n",
       "1  WJtFt  0.262778  0.269839 -2.530187   56.069697\n",
       "2  ovLUW  0.194587  0.289035 -5.586433   62.871910\n",
       "3  q6cA6  2.236060 -0.553760  0.930038  114.572842\n",
       "4  WPMUX -0.515993  1.716266  5.899011  149.600746"
      ]
     },
     "metadata": {},
     "output_type": "display_data"
    },
    {
     "name": "stdout",
     "output_type": "stream",
     "text": [
      "<class 'pandas.core.frame.DataFrame'>\n",
      "RangeIndex: 100000 entries, 0 to 99999\n",
      "Data columns (total 5 columns):\n",
      " #   Column   Non-Null Count   Dtype  \n",
      "---  ------   --------------   -----  \n",
      " 0   id       100000 non-null  object \n",
      " 1   f0       100000 non-null  float64\n",
      " 2   f1       100000 non-null  float64\n",
      " 3   f2       100000 non-null  float64\n",
      " 4   product  100000 non-null  float64\n",
      "dtypes: float64(4), object(1)\n",
      "memory usage: 3.8+ MB\n"
     ]
    }
   ],
   "source": [
    "data_2 = pd.read_csv('/datasets/geo_data_2.csv')\n",
    "display(data_2.head())\n",
    "data_2.info()"
   ]
  },
  {
   "cell_type": "code",
   "execution_count": 23,
   "metadata": {},
   "outputs": [
    {
     "data": {
      "text/plain": [
       "0"
      ]
     },
     "metadata": {},
     "output_type": "display_data"
    },
    {
     "data": {
      "text/plain": [
       "0"
      ]
     },
     "metadata": {},
     "output_type": "display_data"
    },
    {
     "data": {
      "text/plain": [
       "0"
      ]
     },
     "metadata": {},
     "output_type": "display_data"
    }
   ],
   "source": [
    "for i in (data_0,data_1,data_2):\n",
    "    display(i.duplicated().sum())"
   ]
  },
  {
   "cell_type": "markdown",
   "metadata": {},
   "source": [
    "**Вывод**\n",
    "\n",
    "В каждом датасете содержится информация по 100 тысячам скважинам. Данные без пропусков, в формате десятичных чисел. Общих дубликатов нет."
   ]
  },
  {
   "cell_type": "markdown",
   "metadata": {},
   "source": [
    "## Обучение и проверка модели"
   ]
  },
  {
   "cell_type": "code",
   "execution_count": 24,
   "metadata": {},
   "outputs": [],
   "source": [
    "# для удобства прогнозирования напишу общую функцию\n",
    "def predictions_region(df):\n",
    "    X = df.drop(['id','product'],axis = 1) \n",
    "    target = df['product']\n",
    "    \n",
    "    X_train, X_valid, target_train, target_valid = train_test_split(X, target, test_size = 0.25, random_state=42)\n",
    "    \n",
    "    scaler = StandardScaler()\n",
    "    X_train_scaled = scaler.fit_transform(X_train)\n",
    "    X_valid_scaled = scaler.transform(X_valid)\n",
    "    model = LinearRegression().fit(X_train_scaled, target_train)\n",
    "    predictions = model.predict(X_valid_scaled)\n",
    "    \n",
    "    rmse = (mean_squared_error(target_valid, predictions, squared=False))\n",
    "\n",
    "    stock_mean = df['product'].mean()\n",
    "    stock_mean_pred = predictions.mean()\n",
    "    \n",
    "    target_valid = target_valid.reset_index(drop=True)\n",
    "    \n",
    "    return predictions, rmse, stock_mean, stock_mean_pred, target_valid"
   ]
  },
  {
   "cell_type": "code",
   "execution_count": 25,
   "metadata": {
    "scrolled": true
   },
   "outputs": [
    {
     "name": "stdout",
     "output_type": "stream",
     "text": [
      "RMSE модели = 37.76\n",
      "Средний запас сырья = 92.50 тыс. баррелей\n",
      "Средний предсказанный запас сырья 92.40 тыс. баррелей\n"
     ]
    }
   ],
   "source": [
    "predictions_0, rmse_0, stock_mean_0, stock_mean_pred_0, target_valid_0 = predictions_region(data_0)\n",
    "\n",
    "print('RMSE модели = {:.2f}'.format(rmse_0))\n",
    "print('Средний запас сырья = {:.2f} тыс. баррелей'.format(stock_mean_0))\n",
    "print('Средний предсказанный запас сырья {:.2f} тыс. баррелей'.format(stock_mean_pred_0))"
   ]
  },
  {
   "cell_type": "code",
   "execution_count": 26,
   "metadata": {},
   "outputs": [
    {
     "name": "stdout",
     "output_type": "stream",
     "text": [
      "RMSE модели = 0.89\n",
      "Средний запас сырья = 68.83 тыс. баррелей\n",
      "Средний предсказанный запас сырья 68.71 тыс. баррелей\n"
     ]
    }
   ],
   "source": [
    "predictions_1, rmse_1, stock_mean_1, stock_mean_pred_1, target_valid_1 = predictions_region(data_1)\n",
    "\n",
    "print('RMSE модели = {:.2f}'.format(rmse_1))\n",
    "print('Средний запас сырья = {:.2f} тыс. баррелей'.format(stock_mean_1))\n",
    "print('Средний предсказанный запас сырья {:.2f} тыс. баррелей'.format(stock_mean_pred_1))"
   ]
  },
  {
   "cell_type": "code",
   "execution_count": 27,
   "metadata": {},
   "outputs": [
    {
     "name": "stdout",
     "output_type": "stream",
     "text": [
      "RMSE модели = 40.15\n",
      "Средний запас сырья = 95.00 тыс. баррелей\n",
      "Средний предсказанный запас сырья 94.77 тыс. баррелей\n"
     ]
    }
   ],
   "source": [
    "predictions_2, rmse_2, stock_mean_2, stock_mean_pred_2, target_valid_2 = predictions_region(data_2)\n",
    "\n",
    "print('RMSE модели = {:.2f}'.format(rmse_2))\n",
    "print('Средний запас сырья = {:.2f} тыс. баррелей'.format(stock_mean_2))\n",
    "print('Средний предсказанный запас сырья {:.2f} тыс. баррелей'.format(stock_mean_pred_2))"
   ]
  },
  {
   "cell_type": "markdown",
   "metadata": {},
   "source": [
    "**Выводы**\n",
    "\n",
    "- Лучший результат по RMSE показала модель для региона 1\n",
    "- При этом в регионе 1 в 1,5 раза меньше запасов, чем в регионах 0 и 2"
   ]
  },
  {
   "cell_type": "markdown",
   "metadata": {},
   "source": [
    "## Подготовка к расчёту прибыли"
   ]
  },
  {
   "cell_type": "code",
   "execution_count": 28,
   "metadata": {},
   "outputs": [],
   "source": [
    "BUDGET = 10_000_000_000 #общий бюджет\n",
    "TOTAL_LOCATIONS = 500 #при разведке региона исследуют 500 точек\n",
    "TOTAL_BEST_LOCATIONS = 200  #200 лучших скважин \n",
    "PROFIT_FROM_SINGLE_PRODUCT = 450_000   #Доход с каждой единицы продукта 450 000 рублей"
   ]
  },
  {
   "cell_type": "code",
   "execution_count": 29,
   "metadata": {},
   "outputs": [
    {
     "name": "stdout",
     "output_type": "stream",
     "text": [
      "Точка безубыточности = 111.11 тыс. баррелей\n"
     ]
    }
   ],
   "source": [
    "sufficient_volume = BUDGET / TOTAL_BEST_LOCATIONS / PROFIT_FROM_SINGLE_PRODUCT\n",
    "print('Точка безубыточности = {:.2f} тыс. баррелей'.format(sufficient_volume))"
   ]
  },
  {
   "cell_type": "code",
   "execution_count": 30,
   "metadata": {},
   "outputs": [
    {
     "name": "stdout",
     "output_type": "stream",
     "text": [
      "Точка безубыточности для одной скважины = 22222.22 тыс. баррелей\n"
     ]
    }
   ],
   "source": [
    "sufficient_volume_from_single = BUDGET / PROFIT_FROM_SINGLE_PRODUCT\n",
    "print('Точка безубыточности для одной скважины = {:.2f} тыс. баррелей'.format(sufficient_volume_from_single ))"
   ]
  },
  {
   "cell_type": "markdown",
   "metadata": {},
   "source": [
    "**Выводы**\n",
    "\n",
    "Для выхода на безубыточность в каждом регионе, при заданных параметрах, количество добываемого сырья должно быть равно 111 тысяч баррелей. Средние запасы в трех регионах намного меньше - 92, 68 и 95 тысяч баррелей. Соответственно для извлечения прибыли от разработки скважин следует проанализировать сами скважины - спрогнозировать возможную прибыль по каждой скважине и отобрать прибыльные, то есть разрабатывать не все точки."
   ]
  },
  {
   "cell_type": "markdown",
   "metadata": {},
   "source": [
    "## Расчёт прибыли"
   ]
  },
  {
   "cell_type": "code",
   "execution_count": 31,
   "metadata": {},
   "outputs": [],
   "source": [
    "# сделаю функцию для расчета прибыли\n",
    "def revenue(target, predictions, number):\n",
    "    probs_sorted = pd.Series(predictions).sort_values(ascending=False)\n",
    "    selected = target[probs_sorted.index][:number]\n",
    "    return (PROFIT_FROM_SINGLE_PRODUCT * selected.sum() - BUDGET)"
   ]
  },
  {
   "cell_type": "code",
   "execution_count": 32,
   "metadata": {},
   "outputs": [
    {
     "name": "stdout",
     "output_type": "stream",
     "text": [
      "Прибыль по выбранным скважинам региона 0 = 3359.14 млн. руб.\n",
      "Прибыль по выбранным скважинам региона 1 = 2415.09 млн. руб.\n",
      "Прибыль по выбранным скважинам региона 2 = 2598.57 млн. руб.\n"
     ]
    }
   ],
   "source": [
    "revenue_0 = revenue(target_valid_0,predictions_0,200)\n",
    "revenue_1 = revenue(target_valid_1,predictions_1,200)\n",
    "revenue_2 = revenue(target_valid_2,predictions_2,200)\n",
    "\n",
    "print('Прибыль по выбранным скважинам региона 0 = {:.2f} млн. руб.'.format(revenue_0/1000000))\n",
    "print('Прибыль по выбранным скважинам региона 1 = {:.2f} млн. руб.'.format(revenue_1/1000000))\n",
    "print('Прибыль по выбранным скважинам региона 2 = {:.2f} млн. руб.'.format(revenue_2/1000000))"
   ]
  },
  {
   "cell_type": "markdown",
   "metadata": {},
   "source": [
    "## Риски и прибыль с каждого региона"
   ]
  },
  {
   "cell_type": "code",
   "execution_count": 33,
   "metadata": {},
   "outputs": [
    {
     "name": "stdout",
     "output_type": "stream",
     "text": [
      "Регион №0\n",
      "Средняя прибыль:427.848 млн. рублей\n",
      "Доверительный интервал среднего:(-97249829.56859529, 954215192.7088149)\n",
      "2.5%-квантиль:-97.250 млн. рублей\n",
      "Риск:5.50%\n",
      "\n",
      "\n",
      "Регион №1\n",
      "Средняя прибыль:511.530 млн. рублей\n",
      "Доверительный интервал среднего:(91700564.13644528, 921455668.3285091)\n",
      "2.5%-квантиль:91.701 млн. рублей\n",
      "Риск:0.60%\n",
      "\n",
      "\n",
      "Регион №2\n",
      "Средняя прибыль:408.546 млн. рублей\n",
      "Доверительный интервал среднего:(-120624872.94271684, 960859440.7253835)\n",
      "2.5%-квантиль:-120.625 млн. рублей\n",
      "Риск:7.50%\n",
      "\n",
      "\n"
     ]
    }
   ],
   "source": [
    "# функция для расчета Bootstrap\n",
    "state = np.random.RandomState(42)\n",
    "def calc_bootstrap(target,probabilities, region):\n",
    "    values = []\n",
    "    for i in range(1000):\n",
    "        target_subsample = target.sample(500, replace = True, random_state = state)\n",
    "        probs_subsample = probabilities[target_subsample.index] \n",
    "        values.append(revenue(target_subsample, probs_subsample, 200))\n",
    "\n",
    "    values = pd.Series(values)\n",
    "    lower = values.quantile(0.025)\n",
    "    prob_loss = (values < 0).mean()\n",
    "    interval = (values.quantile(0.025), values.quantile(0.975))\n",
    "    mean = values.mean()\n",
    "    print(region)\n",
    "    print('Средняя прибыль:{:.3f} млн. рублей'.format(mean/10**6))\n",
    "    print('Доверительный интервал среднего:{}'.format(interval))\n",
    "    print('2.5%-квантиль:{:.3f} млн. рублей'.format(lower/10**6))\n",
    "    print('Риск:{:.2%}'.format(prob_loss))\n",
    "    print('\\n')\n",
    "    \n",
    "calc_bootstrap(target_valid_0, pd.Series(predictions_0), 'Регион №0')\n",
    "calc_bootstrap(target_valid_1, pd.Series(predictions_1), 'Регион №1')\n",
    "calc_bootstrap(target_valid_2, pd.Series(predictions_2), 'Регион №2')"
   ]
  },
  {
   "cell_type": "markdown",
   "metadata": {},
   "source": [
    "**Общие выводы**\n",
    "Для разработки следует выбрать регион 1. У него запасов меньше, чем в остальных. Однако по средним предсказанным показателям он лучше остальных:\n",
    "- Средняя прибыль по технике Bootstrap составляет 511 млн рублей\n",
    "- Риск убытков самый низкий - всего 0.6%"
   ]
  }
 ],
 "metadata": {
  "ExecuteTimeLog": [
   {
    "duration": 452,
    "start_time": "2024-03-03T13:30:04.367Z"
   },
   {
    "duration": 2,
    "start_time": "2024-03-03T13:30:08.434Z"
   },
   {
    "duration": 130,
    "start_time": "2024-03-03T13:30:35.142Z"
   },
   {
    "duration": 43,
    "start_time": "2024-03-03T13:30:44.071Z"
   },
   {
    "duration": 509,
    "start_time": "2024-03-03T13:31:10.267Z"
   },
   {
    "duration": 165,
    "start_time": "2024-03-03T13:31:17.359Z"
   },
   {
    "duration": 574,
    "start_time": "2024-03-03T13:32:17.484Z"
   },
   {
    "duration": 587,
    "start_time": "2024-03-03T13:33:02.011Z"
   },
   {
    "duration": 386,
    "start_time": "2024-03-05T11:15:13.927Z"
   },
   {
    "duration": 388,
    "start_time": "2024-03-05T11:15:14.315Z"
   },
   {
    "duration": 211,
    "start_time": "2024-03-05T11:15:14.704Z"
   },
   {
    "duration": 214,
    "start_time": "2024-03-05T11:15:14.916Z"
   },
   {
    "duration": 161,
    "start_time": "2024-03-05T11:17:01.419Z"
   },
   {
    "duration": 161,
    "start_time": "2024-03-05T11:17:11.169Z"
   },
   {
    "duration": 217,
    "start_time": "2024-03-05T11:17:26.978Z"
   },
   {
    "duration": 163,
    "start_time": "2024-03-05T11:17:30.112Z"
   },
   {
    "duration": 163,
    "start_time": "2024-03-05T11:18:06.311Z"
   },
   {
    "duration": 156,
    "start_time": "2024-03-05T11:18:08.825Z"
   },
   {
    "duration": 157,
    "start_time": "2024-03-05T11:18:23.820Z"
   },
   {
    "duration": 108,
    "start_time": "2024-03-05T11:21:08.814Z"
   },
   {
    "duration": 16,
    "start_time": "2024-03-05T11:23:36.973Z"
   },
   {
    "duration": 31,
    "start_time": "2024-03-05T11:23:40.719Z"
   },
   {
    "duration": 44,
    "start_time": "2024-03-05T11:24:06.341Z"
   },
   {
    "duration": 43,
    "start_time": "2024-03-05T11:24:10.483Z"
   },
   {
    "duration": 124,
    "start_time": "2024-03-05T11:25:03.962Z"
   },
   {
    "duration": 154,
    "start_time": "2024-03-05T11:25:40.721Z"
   },
   {
    "duration": 8,
    "start_time": "2024-03-05T11:25:53.012Z"
   },
   {
    "duration": 122,
    "start_time": "2024-03-05T11:26:02.156Z"
   },
   {
    "duration": 119,
    "start_time": "2024-03-05T11:26:24.904Z"
   },
   {
    "duration": 10,
    "start_time": "2024-03-05T11:34:44.862Z"
   },
   {
    "duration": 14,
    "start_time": "2024-03-05T11:38:57.759Z"
   },
   {
    "duration": 737,
    "start_time": "2024-03-05T11:39:23.523Z"
   },
   {
    "duration": 62,
    "start_time": "2024-03-05T11:39:28.693Z"
   },
   {
    "duration": 3,
    "start_time": "2024-03-05T11:39:51.096Z"
   },
   {
    "duration": 71,
    "start_time": "2024-03-05T11:39:55.873Z"
   },
   {
    "duration": 29,
    "start_time": "2024-03-05T11:40:37.267Z"
   },
   {
    "duration": 23,
    "start_time": "2024-03-05T11:40:52.539Z"
   },
   {
    "duration": 128,
    "start_time": "2024-03-05T11:40:56.839Z"
   },
   {
    "duration": 28,
    "start_time": "2024-03-05T11:41:09.742Z"
   },
   {
    "duration": 52,
    "start_time": "2024-03-05T11:41:19.115Z"
   },
   {
    "duration": 39,
    "start_time": "2024-03-05T11:42:03.231Z"
   },
   {
    "duration": 3,
    "start_time": "2024-03-05T11:42:17.841Z"
   },
   {
    "duration": 3,
    "start_time": "2024-03-05T11:42:34.392Z"
   },
   {
    "duration": 59,
    "start_time": "2024-03-05T11:42:38.509Z"
   },
   {
    "duration": 75,
    "start_time": "2024-03-05T11:42:45.292Z"
   },
   {
    "duration": 107,
    "start_time": "2024-03-05T11:42:56.660Z"
   },
   {
    "duration": 136,
    "start_time": "2024-03-05T11:43:02.531Z"
   },
   {
    "duration": 445,
    "start_time": "2024-03-05T11:43:15.765Z"
   },
   {
    "duration": 564,
    "start_time": "2024-03-05T11:43:20.747Z"
   },
   {
    "duration": 405,
    "start_time": "2024-03-05T11:43:27.103Z"
   },
   {
    "duration": 461,
    "start_time": "2024-03-05T11:44:17.569Z"
   },
   {
    "duration": 403,
    "start_time": "2024-03-05T11:44:46.905Z"
   },
   {
    "duration": 506,
    "start_time": "2024-03-05T11:45:03.704Z"
   },
   {
    "duration": 437,
    "start_time": "2024-03-05T11:45:11.375Z"
   },
   {
    "duration": 9,
    "start_time": "2024-03-05T11:47:07.488Z"
   },
   {
    "duration": 5,
    "start_time": "2024-03-05T11:47:13.760Z"
   },
   {
    "duration": 10,
    "start_time": "2024-03-05T11:52:09.613Z"
   },
   {
    "duration": 494,
    "start_time": "2024-03-05T11:56:00.527Z"
   },
   {
    "duration": 10,
    "start_time": "2024-03-05T12:24:08.725Z"
   },
   {
    "duration": 423,
    "start_time": "2024-03-05T12:24:11.997Z"
   },
   {
    "duration": 5,
    "start_time": "2024-03-05T12:24:17.370Z"
   },
   {
    "duration": 5,
    "start_time": "2024-03-05T12:24:36.901Z"
   },
   {
    "duration": 6,
    "start_time": "2024-03-05T12:24:51.447Z"
   },
   {
    "duration": 5,
    "start_time": "2024-03-05T12:25:04.555Z"
   },
   {
    "duration": 4,
    "start_time": "2024-03-05T12:25:19.103Z"
   },
   {
    "duration": 5,
    "start_time": "2024-03-05T12:25:57.254Z"
   },
   {
    "duration": 36,
    "start_time": "2024-03-05T14:43:36.091Z"
   },
   {
    "duration": 46,
    "start_time": "2024-03-05T14:44:24.319Z"
   },
   {
    "duration": 111,
    "start_time": "2024-03-05T14:44:39.054Z"
   },
   {
    "duration": 31,
    "start_time": "2024-03-05T14:44:47.077Z"
   },
   {
    "duration": 1023,
    "start_time": "2024-03-05T14:45:14.122Z"
   },
   {
    "duration": 1200,
    "start_time": "2024-03-05T14:46:14.867Z"
   },
   {
    "duration": 30,
    "start_time": "2024-03-05T14:46:29.825Z"
   },
   {
    "duration": 78,
    "start_time": "2024-03-05T14:48:03.511Z"
   },
   {
    "duration": 49,
    "start_time": "2024-03-05T14:50:42.658Z"
   },
   {
    "duration": 74,
    "start_time": "2024-03-05T14:52:56.529Z"
   },
   {
    "duration": 32,
    "start_time": "2024-03-05T14:53:52.064Z"
   },
   {
    "duration": 64,
    "start_time": "2024-03-05T14:55:11.796Z"
   },
   {
    "duration": 5,
    "start_time": "2024-03-05T15:18:08.601Z"
   },
   {
    "duration": 11,
    "start_time": "2024-03-05T15:19:57.332Z"
   },
   {
    "duration": 4,
    "start_time": "2024-03-05T15:20:13.770Z"
   },
   {
    "duration": 32,
    "start_time": "2024-03-05T15:20:16.065Z"
   },
   {
    "duration": 30,
    "start_time": "2024-03-05T15:21:07.119Z"
   },
   {
    "duration": 4,
    "start_time": "2024-03-05T15:21:32.425Z"
   },
   {
    "duration": 29,
    "start_time": "2024-03-05T15:21:34.638Z"
   },
   {
    "duration": 5,
    "start_time": "2024-03-05T15:21:39.356Z"
   },
   {
    "duration": 30,
    "start_time": "2024-03-05T15:21:40.135Z"
   },
   {
    "duration": 5,
    "start_time": "2024-03-05T15:22:31.782Z"
   },
   {
    "duration": 72,
    "start_time": "2024-03-05T15:22:53.893Z"
   },
   {
    "duration": 32,
    "start_time": "2024-03-05T15:23:18.310Z"
   },
   {
    "duration": 32,
    "start_time": "2024-03-05T15:24:39.464Z"
   },
   {
    "duration": 31,
    "start_time": "2024-03-05T15:24:52.457Z"
   },
   {
    "duration": 34,
    "start_time": "2024-03-05T15:25:09.280Z"
   },
   {
    "duration": 36,
    "start_time": "2024-03-05T15:26:08.635Z"
   },
   {
    "duration": 40,
    "start_time": "2024-03-05T15:27:35.893Z"
   },
   {
    "duration": 33,
    "start_time": "2024-03-05T15:28:19.370Z"
   },
   {
    "duration": 5,
    "start_time": "2024-03-05T15:29:01.850Z"
   },
   {
    "duration": 26,
    "start_time": "2024-03-05T15:29:02.451Z"
   },
   {
    "duration": 29,
    "start_time": "2024-03-05T15:29:08.126Z"
   },
   {
    "duration": 25,
    "start_time": "2024-03-05T15:29:10.223Z"
   },
   {
    "duration": 3,
    "start_time": "2024-03-05T15:35:31.680Z"
   },
   {
    "duration": 1453,
    "start_time": "2024-03-06T15:30:40.322Z"
   },
   {
    "duration": 390,
    "start_time": "2024-03-06T15:30:41.777Z"
   },
   {
    "duration": 214,
    "start_time": "2024-03-06T15:30:42.168Z"
   },
   {
    "duration": 208,
    "start_time": "2024-03-06T15:30:42.384Z"
   },
   {
    "duration": 119,
    "start_time": "2024-03-06T15:30:42.593Z"
   },
   {
    "duration": 5,
    "start_time": "2024-03-06T15:30:42.713Z"
   },
   {
    "duration": 150,
    "start_time": "2024-03-06T15:30:42.719Z"
   },
   {
    "duration": 126,
    "start_time": "2024-03-06T15:30:42.871Z"
   },
   {
    "duration": 185,
    "start_time": "2024-03-06T15:30:42.999Z"
   },
   {
    "duration": 80,
    "start_time": "2024-03-06T15:30:43.187Z"
   },
   {
    "duration": 4,
    "start_time": "2024-03-06T15:30:54.640Z"
   },
   {
    "duration": 3,
    "start_time": "2024-03-06T15:31:05.513Z"
   },
   {
    "duration": 3,
    "start_time": "2024-03-06T15:34:38.676Z"
   },
   {
    "duration": 94,
    "start_time": "2024-03-06T15:34:50.679Z"
   },
   {
    "duration": 11,
    "start_time": "2024-03-06T15:35:06.270Z"
   },
   {
    "duration": 4,
    "start_time": "2024-03-06T15:35:13.990Z"
   },
   {
    "duration": 8,
    "start_time": "2024-03-06T15:35:19.391Z"
   },
   {
    "duration": 4,
    "start_time": "2024-03-06T15:36:20.582Z"
   },
   {
    "duration": 8,
    "start_time": "2024-03-06T15:36:25.481Z"
   },
   {
    "duration": 8,
    "start_time": "2024-03-06T15:36:56.369Z"
   },
   {
    "duration": 14,
    "start_time": "2024-03-06T15:37:02.508Z"
   },
   {
    "duration": 8,
    "start_time": "2024-03-06T15:37:32.884Z"
   },
   {
    "duration": 3,
    "start_time": "2024-03-06T15:44:06.711Z"
   },
   {
    "duration": 3,
    "start_time": "2024-03-06T15:44:21.814Z"
   },
   {
    "duration": 3,
    "start_time": "2024-03-06T15:48:38.948Z"
   },
   {
    "duration": 3,
    "start_time": "2024-03-06T15:49:26.975Z"
   },
   {
    "duration": 12,
    "start_time": "2024-03-06T15:51:15.227Z"
   },
   {
    "duration": 3,
    "start_time": "2024-03-06T15:51:38.341Z"
   },
   {
    "duration": 9,
    "start_time": "2024-03-06T15:51:39.994Z"
   },
   {
    "duration": 21,
    "start_time": "2024-03-06T15:51:59.166Z"
   },
   {
    "duration": 15,
    "start_time": "2024-03-06T15:52:12.508Z"
   },
   {
    "duration": 27,
    "start_time": "2024-03-06T15:53:15.754Z"
   },
   {
    "duration": 17,
    "start_time": "2024-03-06T15:54:30.978Z"
   },
   {
    "duration": 18,
    "start_time": "2024-03-06T15:54:44.156Z"
   },
   {
    "duration": 18,
    "start_time": "2024-03-06T15:55:06.867Z"
   },
   {
    "duration": 16,
    "start_time": "2024-03-06T15:55:53.497Z"
   },
   {
    "duration": 21,
    "start_time": "2024-03-06T15:56:06.625Z"
   },
   {
    "duration": 17,
    "start_time": "2024-03-06T15:57:17.887Z"
   },
   {
    "duration": 8,
    "start_time": "2024-03-06T16:00:17.238Z"
   },
   {
    "duration": 5,
    "start_time": "2024-03-06T16:00:20.775Z"
   },
   {
    "duration": 8,
    "start_time": "2024-03-06T16:00:26.219Z"
   },
   {
    "duration": 16,
    "start_time": "2024-03-06T16:00:32.958Z"
   },
   {
    "duration": 5,
    "start_time": "2024-03-06T16:00:42.979Z"
   },
   {
    "duration": 5,
    "start_time": "2024-03-06T16:00:52.200Z"
   },
   {
    "duration": 17,
    "start_time": "2024-03-06T16:01:44.630Z"
   },
   {
    "duration": 18,
    "start_time": "2024-03-06T16:01:53.216Z"
   },
   {
    "duration": 17,
    "start_time": "2024-03-06T16:02:00.511Z"
   },
   {
    "duration": 3,
    "start_time": "2024-03-06T16:02:16.614Z"
   },
   {
    "duration": 17,
    "start_time": "2024-03-06T16:04:24.739Z"
   },
   {
    "duration": 20,
    "start_time": "2024-03-06T16:05:06.486Z"
   },
   {
    "duration": 18,
    "start_time": "2024-03-06T16:05:33.812Z"
   },
   {
    "duration": 14,
    "start_time": "2024-03-06T16:23:03.366Z"
   },
   {
    "duration": 3,
    "start_time": "2024-03-06T16:23:22.954Z"
   },
   {
    "duration": 1429,
    "start_time": "2024-03-06T16:23:27.626Z"
   },
   {
    "duration": 1342,
    "start_time": "2024-03-06T16:23:58.754Z"
   },
   {
    "duration": 4094,
    "start_time": "2024-03-06T16:24:08.577Z"
   },
   {
    "duration": 62,
    "start_time": "2024-03-06T16:25:54.899Z"
   },
   {
    "duration": 4,
    "start_time": "2024-03-06T16:28:24.697Z"
   },
   {
    "duration": 197,
    "start_time": "2024-03-06T16:28:24.702Z"
   },
   {
    "duration": 152,
    "start_time": "2024-03-06T16:28:24.901Z"
   },
   {
    "duration": 157,
    "start_time": "2024-03-06T16:28:25.055Z"
   },
   {
    "duration": 128,
    "start_time": "2024-03-06T16:28:25.214Z"
   },
   {
    "duration": 5,
    "start_time": "2024-03-06T16:28:25.343Z"
   },
   {
    "duration": 115,
    "start_time": "2024-03-06T16:28:25.350Z"
   },
   {
    "duration": 126,
    "start_time": "2024-03-06T16:28:25.467Z"
   },
   {
    "duration": 123,
    "start_time": "2024-03-06T16:28:25.666Z"
   },
   {
    "duration": 3,
    "start_time": "2024-03-06T16:28:25.791Z"
   },
   {
    "duration": 84,
    "start_time": "2024-03-06T16:28:25.796Z"
   },
   {
    "duration": 93,
    "start_time": "2024-03-06T16:28:25.881Z"
   },
   {
    "duration": 16,
    "start_time": "2024-03-06T16:28:25.976Z"
   },
   {
    "duration": 17,
    "start_time": "2024-03-06T16:28:25.994Z"
   },
   {
    "duration": 4034,
    "start_time": "2024-03-06T16:28:26.013Z"
   },
   {
    "duration": 1163,
    "start_time": "2024-03-06T18:08:32.417Z"
   },
   {
    "duration": 154,
    "start_time": "2024-03-06T18:08:33.582Z"
   },
   {
    "duration": 134,
    "start_time": "2024-03-06T18:08:33.737Z"
   },
   {
    "duration": 136,
    "start_time": "2024-03-06T18:08:33.873Z"
   },
   {
    "duration": 120,
    "start_time": "2024-03-06T18:08:34.010Z"
   },
   {
    "duration": 13,
    "start_time": "2024-03-06T18:08:34.132Z"
   },
   {
    "duration": 108,
    "start_time": "2024-03-06T18:08:34.146Z"
   },
   {
    "duration": 121,
    "start_time": "2024-03-06T18:08:34.256Z"
   },
   {
    "duration": 125,
    "start_time": "2024-03-06T18:08:34.446Z"
   },
   {
    "duration": 33,
    "start_time": "2024-03-06T18:08:58.988Z"
   },
   {
    "duration": 32,
    "start_time": "2024-03-06T18:09:01.794Z"
   },
   {
    "duration": 16,
    "start_time": "2024-03-06T18:09:05.138Z"
   },
   {
    "duration": 4,
    "start_time": "2024-03-06T18:09:50.406Z"
   },
   {
    "duration": 109,
    "start_time": "2024-03-06T18:09:50.838Z"
   },
   {
    "duration": 5,
    "start_time": "2024-03-06T18:09:53.413Z"
   },
   {
    "duration": 32,
    "start_time": "2024-03-06T18:09:54.583Z"
   },
   {
    "duration": 4869,
    "start_time": "2024-03-07T10:26:28.659Z"
   },
   {
    "duration": 2396,
    "start_time": "2024-03-07T10:26:41.219Z"
   },
   {
    "duration": 1492,
    "start_time": "2024-03-07T10:26:56.921Z"
   },
   {
    "duration": 93,
    "start_time": "2024-03-07T10:27:58.019Z"
   },
   {
    "duration": 67,
    "start_time": "2024-03-07T10:28:05.883Z"
   },
   {
    "duration": 514,
    "start_time": "2024-03-07T10:28:05.952Z"
   },
   {
    "duration": 559,
    "start_time": "2024-03-07T10:28:06.468Z"
   },
   {
    "duration": 543,
    "start_time": "2024-03-07T10:28:07.029Z"
   },
   {
    "duration": 122,
    "start_time": "2024-03-07T10:28:07.573Z"
   },
   {
    "duration": 2377,
    "start_time": "2024-03-07T10:28:07.696Z"
   },
   {
    "duration": 2,
    "start_time": "2024-03-07T10:28:10.075Z"
   },
   {
    "duration": 3553,
    "start_time": "2024-03-07T10:28:10.079Z"
   },
   {
    "duration": 5,
    "start_time": "2024-03-07T10:28:13.633Z"
   },
   {
    "duration": 83,
    "start_time": "2024-03-07T10:28:13.640Z"
   },
   {
    "duration": 206,
    "start_time": "2024-03-07T10:28:13.725Z"
   },
   {
    "duration": 130,
    "start_time": "2024-03-07T10:28:13.994Z"
   },
   {
    "duration": 9,
    "start_time": "2024-03-07T10:28:14.195Z"
   },
   {
    "duration": 3,
    "start_time": "2024-03-07T10:28:14.295Z"
   },
   {
    "duration": 26,
    "start_time": "2024-03-07T10:28:14.299Z"
   },
   {
    "duration": 40,
    "start_time": "2024-03-07T10:28:14.326Z"
   },
   {
    "duration": 49,
    "start_time": "2024-03-07T10:28:14.367Z"
   },
   {
    "duration": 3752,
    "start_time": "2024-03-07T10:28:14.417Z"
   },
   {
    "duration": 3701,
    "start_time": "2024-03-07T10:28:26.406Z"
   },
   {
    "duration": 3531,
    "start_time": "2024-03-07T10:28:38.675Z"
   },
   {
    "duration": 3334,
    "start_time": "2024-03-07T10:28:46.279Z"
   },
   {
    "duration": 3886,
    "start_time": "2024-03-07T10:29:16.136Z"
   },
   {
    "duration": 97,
    "start_time": "2024-03-07T10:32:04.027Z"
   },
   {
    "duration": 5,
    "start_time": "2024-03-07T10:32:18.951Z"
   },
   {
    "duration": 31,
    "start_time": "2024-03-07T10:33:00.275Z"
   },
   {
    "duration": 32,
    "start_time": "2024-03-07T10:33:04.038Z"
   },
   {
    "duration": 33,
    "start_time": "2024-03-07T10:33:07.152Z"
   },
   {
    "duration": 3,
    "start_time": "2024-03-07T10:34:24.941Z"
   },
   {
    "duration": 100,
    "start_time": "2024-03-07T10:35:06.556Z"
   },
   {
    "duration": 7,
    "start_time": "2024-03-07T10:35:12.650Z"
   },
   {
    "duration": 3,
    "start_time": "2024-03-07T10:36:03.503Z"
   },
   {
    "duration": 3,
    "start_time": "2024-03-07T10:36:21.330Z"
   },
   {
    "duration": 99,
    "start_time": "2024-03-07T10:38:32.971Z"
   },
   {
    "duration": 133,
    "start_time": "2024-03-07T10:40:50.474Z"
   },
   {
    "duration": 1336,
    "start_time": "2024-03-07T10:41:16.501Z"
   },
   {
    "duration": 169,
    "start_time": "2024-03-07T10:41:17.839Z"
   },
   {
    "duration": 139,
    "start_time": "2024-03-07T10:41:18.009Z"
   },
   {
    "duration": 145,
    "start_time": "2024-03-07T10:41:18.149Z"
   },
   {
    "duration": 137,
    "start_time": "2024-03-07T10:41:18.296Z"
   },
   {
    "duration": 5,
    "start_time": "2024-03-07T10:41:18.434Z"
   },
   {
    "duration": 58,
    "start_time": "2024-03-07T10:41:18.441Z"
   },
   {
    "duration": 194,
    "start_time": "2024-03-07T10:41:18.501Z"
   },
   {
    "duration": 118,
    "start_time": "2024-03-07T10:41:18.697Z"
   },
   {
    "duration": 83,
    "start_time": "2024-03-07T10:41:18.818Z"
   },
   {
    "duration": 98,
    "start_time": "2024-03-07T10:41:18.903Z"
   },
   {
    "duration": 12,
    "start_time": "2024-03-07T10:41:19.002Z"
   },
   {
    "duration": 19,
    "start_time": "2024-03-07T10:41:19.016Z"
   },
   {
    "duration": 124,
    "start_time": "2024-03-07T10:41:19.036Z"
   },
   {
    "duration": 0,
    "start_time": "2024-03-07T10:41:19.161Z"
   },
   {
    "duration": 3,
    "start_time": "2024-03-07T10:42:21.679Z"
   },
   {
    "duration": 20,
    "start_time": "2024-03-07T10:42:22.550Z"
   },
   {
    "duration": 3,
    "start_time": "2024-03-07T10:42:37.977Z"
   },
   {
    "duration": 18,
    "start_time": "2024-03-07T10:42:38.980Z"
   },
   {
    "duration": 3,
    "start_time": "2024-03-07T10:42:44.439Z"
   },
   {
    "duration": 178,
    "start_time": "2024-03-07T10:42:44.444Z"
   },
   {
    "duration": 143,
    "start_time": "2024-03-07T10:42:44.623Z"
   },
   {
    "duration": 152,
    "start_time": "2024-03-07T10:42:44.767Z"
   },
   {
    "duration": 154,
    "start_time": "2024-03-07T10:42:44.921Z"
   },
   {
    "duration": 5,
    "start_time": "2024-03-07T10:42:45.076Z"
   },
   {
    "duration": 86,
    "start_time": "2024-03-07T10:42:45.083Z"
   },
   {
    "duration": 120,
    "start_time": "2024-03-07T10:42:45.197Z"
   },
   {
    "duration": 204,
    "start_time": "2024-03-07T10:42:45.319Z"
   },
   {
    "duration": 71,
    "start_time": "2024-03-07T10:42:45.525Z"
   },
   {
    "duration": 166,
    "start_time": "2024-03-07T10:42:45.598Z"
   },
   {
    "duration": 32,
    "start_time": "2024-03-07T10:42:45.766Z"
   },
   {
    "duration": 35,
    "start_time": "2024-03-07T10:42:45.800Z"
   },
   {
    "duration": 29,
    "start_time": "2024-03-07T10:42:45.837Z"
   },
   {
    "duration": 3853,
    "start_time": "2024-03-07T10:42:45.867Z"
   }
  ],
  "kernelspec": {
   "display_name": "Python 3 (ipykernel)",
   "language": "python",
   "name": "python3"
  },
  "language_info": {
   "codemirror_mode": {
    "name": "ipython",
    "version": 3
   },
   "file_extension": ".py",
   "mimetype": "text/x-python",
   "name": "python",
   "nbconvert_exporter": "python",
   "pygments_lexer": "ipython3",
   "version": "3.11.5"
  },
  "toc": {
   "base_numbering": 1,
   "nav_menu": {},
   "number_sections": true,
   "sideBar": true,
   "skip_h1_title": true,
   "title_cell": "Table of Contents",
   "title_sidebar": "Contents",
   "toc_cell": false,
   "toc_position": {},
   "toc_section_display": true,
   "toc_window_display": false
  }
 },
 "nbformat": 4,
 "nbformat_minor": 2
}
